{
 "cells": [
  {
   "cell_type": "code",
   "execution_count": null,
   "id": "21ee4dfa",
   "metadata": {},
   "outputs": [],
   "source": [
    "!conda list"
   ]
  },
  {
   "cell_type": "code",
   "execution_count": null,
   "id": "c516d8c3",
   "metadata": {},
   "outputs": [],
   "source": [
    "import tensorflow as tf\n",
    "\n",
    "print(tf.__version__)\n",
    "print(tf.test.is_built_with_cuda())\n",
    "from tensorflow.python.client import device_lib\n",
    "def get_available_devices():\n",
    "    local_device_protos = device_lib.list_local_devices()\n",
    "    return [x.name for x in local_device_protos]\n",
    "print(get_available_devices()) \n",
    "import larq as lq\n",
    "\n",
    "import numpy as np\n",
    "import pickle as pickle_rick\n",
    "from matplotlib import pyplot as plt\n",
    "\n",
    "\n",
    "from art.estimators.classification import TensorFlowV2Classifier\n",
    "from art.attacks.evasion import FastGradientMethod, CarliniLInfMethod\n",
    "\n",
    "print(\"Num GPUs Available: \", len(tf.config.list_physical_devices('GPU')))\n"
   ]
  },
  {
   "cell_type": "code",
   "execution_count": null,
   "id": "243f0f8d",
   "metadata": {},
   "outputs": [],
   "source": [
    "model = pickle_rick.load(open(\"LqModel\", \"rb\"))\n",
    "inter_op_parallelism_threads =2"
   ]
  },
  {
   "cell_type": "code",
   "execution_count": null,
   "id": "691329f4",
   "metadata": {},
   "outputs": [],
   "source": [
    "model.summary()"
   ]
  },
  {
   "cell_type": "code",
   "execution_count": null,
   "id": "ae8dd992",
   "metadata": {},
   "outputs": [],
   "source": [
    "lq.models.summary(model)"
   ]
  },
  {
   "cell_type": "code",
   "execution_count": null,
   "id": "818a03fc",
   "metadata": {},
   "outputs": [],
   "source": [
    "(train_images, train_labels), (test_images, test_labels) = tf.keras.datasets.mnist.load_data()\n",
    "\n",
    "train_images = train_images.reshape((60000, 28, 28, 1))\n",
    "test_images = test_images.reshape((10000, 28, 28, 1))\n",
    "\n",
    "# Normalize pixel values to be between -1 and 1\n",
    "train_images, test_images = train_images / 127.5 - 1, test_images / 127.5 - 1"
   ]
  },
  {
   "cell_type": "code",
   "execution_count": null,
   "id": "ea9d87e7",
   "metadata": {},
   "outputs": [],
   "source": [
    "test_loss, test_acc = model.evaluate(test_images, test_labels)\n",
    "print(f\"Test accuracy {test_acc * 100:.2f} %\")"
   ]
  },
  {
   "cell_type": "code",
   "execution_count": null,
   "id": "60e069c8",
   "metadata": {},
   "outputs": [],
   "source": [
    "loss ='sparse_categorical_crossentropy'"
   ]
  },
  {
   "cell_type": "code",
   "execution_count": null,
   "id": "e6ace4d5",
   "metadata": {},
   "outputs": [],
   "source": [
    "classifier = TensorFlowV2Classifier(model=model, nb_classes=10, input_shape=(28, 28, 1), loss_object=loss, \n",
    "                                    clip_values=(0, 1), channels_first=False)\n"
   ]
  },
  {
   "cell_type": "code",
   "execution_count": null,
   "id": "775cacaf",
   "metadata": {},
   "outputs": [],
   "source": [
    "attack_cw = CarliniLInfMethod(classifier=classifier,\n",
    "                              max_iter=100,\n",
    "                              learning_rate=0.01,\n",
    "                              initial_const=1e-5,\n",
    "                              largest_const=20)"
   ]
  },
  {
   "cell_type": "code",
   "execution_count": null,
   "id": "7f7bf09d",
   "metadata": {},
   "outputs": [],
   "source": [
    "%%capture attack\n",
    "\n",
    "x_test_adv = attack_cw.generate(test_images);\n"
   ]
  },
  {
   "cell_type": "code",
   "execution_count": null,
   "id": "7c012e2c",
   "metadata": {},
   "outputs": [],
   "source": []
  },
  {
   "cell_type": "code",
   "execution_count": null,
   "id": "6810c951",
   "metadata": {},
   "outputs": [],
   "source": [
    "#y_test_pred = np.argmax(model(x_test_adv), axis=1)\n",
    "\n",
    "for i in range(0,10):\n",
    "    \n",
    "    y_test_pred = np.argmax(model(x_test_adv), axis=1)\n",
    "    accuracy_test_adv = np.sum(y_test_pred == test_labels[i]) / test_labels.shape[0]\n",
    "    perturbation = np.mean(np.abs((x_test_adv[i] - test_images[i])))\n",
    "    print('Accuracy on adversarial test data: {:4.2f}%'.format(accuracy_test_adv * 100))\n",
    "    print('Average perturbation: {:.2e}'.format(perturbation))\n",
    "    plt.matshow(x_test_adv[i, :, :, 0])\n",
    "    plt.show()"
   ]
  },
  {
   "cell_type": "code",
   "execution_count": null,
   "id": "8a0ccc34",
   "metadata": {},
   "outputs": [],
   "source": [
    "for i in range(10):\n",
    "    np.set_printoptions(threshold=np.inf)\n",
    "    print(\"y_test_pred \", y_test_pred, test_labels, '/n')\n",
    "   "
   ]
  },
  {
   "cell_type": "code",
   "execution_count": null,
   "id": "1b533bb5",
   "metadata": {},
   "outputs": [],
   "source": [
    "y_test_pred = np.argmax(model(x_test_adv), axis=1)\n",
    "accuracy_test_adv = np.sum(y_test_pred == test_labels) / test_labels.shape[0]\n",
    "perturbation = np.mean(np.abs((x_test_adv - test_images)))\n",
    "print('Accuracy on adversarial test data: {:4.2f}%'.format(accuracy_test_adv * 100))\n",
    "print('Average perturbation: {:4.2f}'.format(perturbation))"
   ]
  },
  {
   "cell_type": "code",
   "execution_count": null,
   "id": "84b888d4",
   "metadata": {},
   "outputs": [],
   "source": []
  }
 ],
 "metadata": {
  "kernelspec": {
   "display_name": "tf2.4",
   "language": "python",
   "name": "tf2.4"
  },
  "language_info": {
   "codemirror_mode": {
    "name": "ipython",
    "version": 3
   },
   "file_extension": ".py",
   "mimetype": "text/x-python",
   "name": "python",
   "nbconvert_exporter": "python",
   "pygments_lexer": "ipython3",
   "version": "3.9.16"
  }
 },
 "nbformat": 4,
 "nbformat_minor": 5
}
